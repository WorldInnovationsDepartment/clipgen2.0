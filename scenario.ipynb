{
 "cells": [
  {
   "cell_type": "code",
   "execution_count": 1,
   "metadata": {},
   "outputs": [
    {
     "data": {
      "text/plain": [
       "True"
      ]
     },
     "execution_count": 1,
     "metadata": {},
     "output_type": "execute_result"
    }
   ],
   "source": [
    "from langchain_core.messages import HumanMessage, SystemMessage\n",
    "from langchain_community.chat_models import ChatOpenAI\n",
    "import os\n",
    "import json\n",
    "\n",
    "from langchain.memory import ConversationBufferMemory\n",
    "from langchain_core.messages import (\n",
    "    HumanMessage,\n",
    "    SystemMessage\n",
    ")\n",
    "# import prompts\n",
    "from dotenv import load_dotenv\n",
    "load_dotenv()"
   ]
  },
  {
   "cell_type": "code",
   "execution_count": 2,
   "metadata": {},
   "outputs": [],
   "source": [
    "SUMMARY_TEMPLATE = \"\"\"Generate song summary based on song data to provide song writter with short info about song. Respond ONLY with summary please.\"\"\"\n",
    "\n",
    "IDEAS_GENERATE_TEMPLATE = \"\"\"As a seasoned scriptwriter for music videos, devise {ideas_number} creative concepts for a video project. Respond ONLY with python list of strings. each string is idea.\"\"\"\n",
    "\n",
    "CHOOSE_IDEA_TEMPLATE = \"\"\"\n",
    "You are professional video clip script writer.\n",
    "Choose one of the ideas for video clip choose one that suites best . Respond ONLY with chosen idea. \n",
    "\"\"\"\n",
    "\n",
    "SONG_DATA_TEMPLATE = \"\"\"Here is song data:\n",
    "Name: {name}\n",
    "mood: {mood}\n",
    "Artist: {artist}\n",
    "Genre: {genre}\n",
    "lyrics: {lyrics}\n",
    "\"\"\"\n",
    "\n",
    "FULL_SONG_DATA_TEMPLATE = \"\"\"Here is song data:\n",
    "Name: {name}\n",
    "mood: {mood}\n",
    "Artist: {artist}\n",
    "Genre: {genre}\n",
    "lyrics: {lyrics}\n",
    "Summary: {summary}\n",
    "\"\"\"\n",
    "\n",
    "IDEAS_TEMPLATE = \"\"\"Video Clip Ideas: {ideas}\"\"\"\n",
    "\n",
    "IDEA_TEMPLATE = \"\"\"Video Clip Idea: {idea}\"\"\"\n",
    "SONG_SUMMARY_TEMPLATE = \"\"\"Song summary: summary\"\"\"\n",
    "CONCEPT_TEMPLATE = \"\"\"Video Clip Concept: {concept}\"\"\"\n",
    "SCENARIO_TEMPLATE = \"\"\"Video Clip Scenario: {scenario}\"\"\"\n",
    "CONCEPT_GENERATE_TEMPLATE = \"\"\"As a seasoned scriptwriter for music videos. Based on song data and video clip idea generate 30 second video clip concept.\"\"\"\n",
    "SCENARIO_GENERATE_TEMPLATE = \"\"\"As a seasoned scriptwriter for music videos. Based on song data and video clip idea+concept generate 30 second video clip scenario second by second.\"\"\"\n",
    "\n",
    "\n",
    "STORY_BOARD_GENERATE_TEMPLATE = \"\"\"Write video clip storyboard by its info, describe each second. \n",
    "Respond with JSON ONLY no yapping where keys are seconds and values - second description. \n",
    "Describe clip from {start} second to {end} second\"\"\""
   ]
  },
  {
   "cell_type": "code",
   "execution_count": 3,
   "metadata": {},
   "outputs": [],
   "source": [
    "# Generate theme \n",
    "from dataclasses import dataclass\n",
    "\n",
    "@dataclass\n",
    "class Song:    \n",
    "    name:str\n",
    "    mood:str \n",
    "    artist:str\n",
    "    genre:str\n",
    "    lyrics:str\n",
    "    summary:str=None\n",
    "\n",
    "    def info_for_summarization(self):\n",
    "        return {\n",
    "            \"name\":self.name,\n",
    "            \"mood\":self.mood,\n",
    "            \"artist\":self.artist,\n",
    "            \"genre\":self.genre,\n",
    "            \"lyrics\":self.lyrics\n",
    "        }\n",
    "    \n",
    "    def to_dict(self):\n",
    "        return {\n",
    "            \"summary\":self.summary,\n",
    "            **self.info_for_summarization()\n",
    "        }\n",
    "\n",
    "\n",
    "@dataclass\n",
    "class VideoClip:\n",
    "    idea:str=None\n",
    "    visual_aesthetic:str=None\n",
    "    concept:str=None\n",
    "    scenario:str=None\n",
    "    story_board:str=None    \n",
    "\n",
    "\n",
    "@dataclass \n",
    "class ScenarioWriter:\n",
    "    name: str\n",
    "    memory: ConversationBufferMemory\n",
    "    chat: ChatOpenAI\n",
    "    video_clip:VideoClip\n",
    "    ideas:list=None\n",
    "\n",
    "    def summarize_song(self, song:Song):\n",
    "        self.song=song\n",
    "        res = self.chat.invoke([\n",
    "            SystemMessage(\n",
    "                content=SUMMARY_TEMPLATE\n",
    "            ),\n",
    "            HumanMessage(\n",
    "                content=SONG_DATA_TEMPLATE.format(**song.info_for_summarization())\n",
    "            ),\n",
    "        ])\n",
    "        song.summary = res.content\n",
    "        return res.content\n",
    "\n",
    "    def idea_generation(self, ideas_number:int):\n",
    "        res = self.chat.invoke([\n",
    "            SystemMessage(\n",
    "                content=IDEAS_GENERATE_TEMPLATE\n",
    "            ),\n",
    "            HumanMessage(\n",
    "                content=SONG_DATA_TEMPLATE.format(**self.song.info_for_summarization())\n",
    "            ),\n",
    "            HumanMessage(\n",
    "                content=SONG_SUMMARY_TEMPLATE.format(**{\"summary\":self.song.summary})\n",
    "            ),\n",
    "        ])\n",
    "        # print(res.content)\n",
    "        self.ideas=res.content\n",
    "        return res.content\n",
    "\n",
    "    \n",
    "    def choose_best_idea(self, ideas):\n",
    "        res = self.chat.invoke([\n",
    "            SystemMessage(\n",
    "                content=CHOOSE_IDEA_TEMPLATE\n",
    "            ),\n",
    "            HumanMessage(\n",
    "                content=IDEAS_TEMPLATE.format(**{\"ideas\":ideas})\n",
    "            ),\n",
    "            HumanMessage(\n",
    "                content=SONG_DATA_TEMPLATE.format(**self.song.to_dict())\n",
    "            ),\n",
    "        ])\n",
    "        self.video_clip.idea = res.content\n",
    "        return res.content\n",
    "    \n",
    "    def concept_development(self):\n",
    "        res = self.chat.invoke([\n",
    "            SystemMessage(\n",
    "                content=CONCEPT_GENERATE_TEMPLATE\n",
    "            ),\n",
    "            HumanMessage(\n",
    "                content=SONG_DATA_TEMPLATE.format(**self.song.to_dict())\n",
    "            ),\n",
    "            HumanMessage(\n",
    "                content=IDEA_TEMPLATE.format(**{\"idea\":self.video_clip.idea})\n",
    "            ),\n",
    "            HumanMessage(\n",
    "                content=CONCEPT_TEMPLATE.format(**{\"concept\":self.video_clip.concept})\n",
    "            ),\n",
    "        ])\n",
    "        self.video_clip.concept = res.content\n",
    "        return res.content\n",
    "\n",
    "    # def visual_aesthetic():\n",
    "    #     pass\n",
    "\n",
    "    def write_scenario(self):\n",
    "        res = self.chat.invoke([\n",
    "            SystemMessage(\n",
    "                content=SCENARIO_GENERATE_TEMPLATE\n",
    "            ),\n",
    "            HumanMessage(\n",
    "                content=CONCEPT_TEMPLATE.format(**{\"concept\":self.video_clip.concept})\n",
    "            ),\n",
    "            HumanMessage(\n",
    "                content=IDEA_TEMPLATE.format(**{\"idea\":self.video_clip.idea})\n",
    "            ),\n",
    "            HumanMessage(\n",
    "                content=SONG_DATA_TEMPLATE.format(**self.song.to_dict())\n",
    "            ),\n",
    "        ])\n",
    "        self.video_clip.scenario = res.content\n",
    "        return res.content\n",
    "\n",
    "    def create_story_board(self, start:int, end:int):\n",
    "        messages = [\n",
    "            SystemMessage(\n",
    "                content=STORY_BOARD_GENERATE_TEMPLATE.format(**{'start':start, \"end\":end})\n",
    "            ),\n",
    "            HumanMessage(\n",
    "                content=SCENARIO_GENERATE_TEMPLATE.format(**{\"scenario\":self.video_clip.scenario})\n",
    "            ),\n",
    "            HumanMessage(\n",
    "                content=CONCEPT_TEMPLATE.format(**{\"concept\":self.video_clip.concept})\n",
    "            ),\n",
    "            HumanMessage(\n",
    "                content=IDEA_TEMPLATE.format(**{\"idea\":self.video_clip.idea})\n",
    "            ),\n",
    "        ]\n",
    "        res = self.chat.invoke(messages)\n",
    "\n",
    "        self.video_clip.story_board = clean_text(res.content)\n",
    "\n",
    "        return self.video_clip.story_board\n",
    "\n",
    "def clean_text(input_text):\n",
    "    # Define the substrings to be removed\n",
    "    start_substring = \"```json\\n\"\n",
    "    end_substring = \"```\"\n",
    "    \n",
    "    # Remove the start substring\n",
    "    if input_text.startswith(start_substring):\n",
    "        input_text = input_text[len(start_substring):]\n",
    "    \n",
    "    # Remove the end substring\n",
    "    if input_text.endswith(end_substring):\n",
    "        input_text = input_text[:-len(end_substring)]\n",
    "    \n",
    "    return json.loads(input_text)\n"
   ]
  },
  {
   "cell_type": "markdown",
   "metadata": {},
   "source": [
    "### Song data"
   ]
  },
  {
   "cell_type": "code",
   "execution_count": 4,
   "metadata": {},
   "outputs": [],
   "source": [
    "name = \"Space in Between\"\n",
    "mood = \"Sad\"\n",
    "artist = \"Jan Blomquist\"\n",
    "genre = \"Techno\"\n",
    "lyrics = \"\"\"\n",
    "[' (Verse 1)\\n'\n",
    " 'He walks through the world with a heavy heart,\\n'\n",
    " \"A burden that's hidden, deep within his pants,\\n\"\n",
    " 'His soul cries out for more than just sex,\\n'\n",
    " 'But the weight of his package, never gives him a chance.\\n'\n",
    " '\\n'\n",
    " '(Chorus)\\n'\n",
    " 'Oh, the man with the big dick,\\n'\n",
    " 'Feels so small and so sad,\\n'\n",
    " \"He's just a man with a heavy heart,\\n\"\n",
    " 'And a cross that he never had.\\n'\n",
    " '\\n'\n",
    " '(Verse 2)\\n'\n",
    " \"He's tired of the stares, the whispers, the jokes,\\n\"\n",
    " 'The expectations, the pressure, the constant remarks,\\n'\n",
    " 'He wants to be loved for who he is inside,\\n'\n",
    " 'But his big dick, always steals the spotlight, leaving him in the dark.\\n'\n",
    " '\\n'\n",
    " '(Chorus)\\n'\n",
    " 'Oh, the man with the big dick,\\n'\n",
    " 'Feels so alone and misunderstood,\\n'\n",
    " \"He's just a man with a heavy heart,\\n\"\n",
    " \"Living in a world that's so crude.\\n\"\n",
    " '\\n'\n",
    " '(Bridge)\\n'\n",
    " \"He's more than just a body, more than just a tool,\\n\"\n",
    " \"He's a person with feelings, with dreams and with rules,\\n\"\n",
    " 'He wants to find love, he wants to find peace,\\n'\n",
    " 'But his big dick, only brings him release.\\n'\n",
    " '\\n'\n",
    " '(Chorus)\\n'\n",
    " 'Oh, the man with the big dick,\\n'\n",
    " 'Feels so unloved and unseen,\\n'\n",
    " \"He's just a man with a heavy heart,\\n\"\n",
    " \"Drowning in a world that's so mean.\\n\"\n",
    " '\\n'\n",
    " '(Outro)\n",
    " \"So here's to the man with the big dick,\"\n",
    " 'May he find love, may he find his way,\n",
    " 'May he be seen for who he truly is,\n",
    " 'And not just the size of his package, at the end of the day.\n",
    "\"\"\"\n",
    "openapi_api_key=os.getenv('OPENAPI_API_KEY')"
   ]
  },
  {
   "cell_type": "markdown",
   "metadata": {},
   "source": [
    "### Inits"
   ]
  },
  {
   "cell_type": "markdown",
   "metadata": {},
   "source": [
    "song = Song(\n",
    "    name=name,\n",
    "    mood=mood,\n",
    "    artist=artist,\n",
    "    genre=genre,\n",
    "    lyrics=lyrics,\n",
    ")\n",
    "video_clip=VideoClip()\n",
    "scenario_writer = ScenarioWriter(\n",
    "    name=\"Oleg\", \n",
    "    memory = ConversationBufferMemory(), \n",
    "    chat = ChatOpenAI(\n",
    "        model_name='gpt-4-0125-preview', \n",
    "        openai_api_key=openapi_api_key, \n",
    "        temperature=0.7\n",
    "    ),\n",
    "    video_clip=video_clip,\n",
    ")"
   ]
  },
  {
   "cell_type": "code",
   "execution_count": 6,
   "metadata": {},
   "outputs": [
    {
     "data": {
      "text/plain": [
       "'\"Space in Between\" by Jan Blomquist is a melancholic techno track that delves into the emotional turmoil of a man burdened by societal perceptions and expectations due to his physical attributes. The lyrics convey a sad narrative of isolation and the longing to be appreciated for one\\'s true self, rather than being judged on superficial bases. Through a blend of somber verses and a poignant chorus, the song explores themes of loneliness, misunderstanding, and the desire for genuine connection and acceptance.'"
      ]
     },
     "execution_count": 6,
     "metadata": {},
     "output_type": "execute_result"
    }
   ],
   "source": [
    "summary = scenario_writer.summarize_song(song)\n",
    "\n",
    "summary"
   ]
  },
  {
   "cell_type": "code",
   "execution_count": 7,
   "metadata": {},
   "outputs": [
    {
     "data": {
      "text/plain": [
       "'[\"A monochrome urban landscape, where the protagonist walks alone through crowded streets, feeling invisible despite his physical attribute being a source of unwanted attention.\",\\n \"Scenes intercut between the protagonist facing awkward situations (dates, locker rooms) and him alone in a room, looking into a mirror with a mix of confusion and sadness.\",\\n \"A symbolic sequence where the man is weighed down by literal chains representing societal expectations, struggling to move forward.\",\\n \"A dreamlike sequence in a forest, where the protagonist is chasing after masked figures representing love and acceptance, but they keep disappearing into thin air.\",\\n \"Close-up shots of different individuals, each showing signs of their own \\'burdens\\', implying that everyone has their own invisible struggles.\",\\n \"A climactic scene where the protagonist stands at the edge of a cliff under the stars, contemplating the vastness of the universe, feeling both insignificant and liberated from societal judgments.\",\\n \"The video ends with the protagonist finding solace in a support group, where people share and listen to each other\\'s stories, finding common ground beyond physical appearances.\"]'"
      ]
     },
     "execution_count": 7,
     "metadata": {},
     "output_type": "execute_result"
    }
   ],
   "source": [
    "ideas = scenario_writer.idea_generation(5)\n",
    "\n",
    "ideas"
   ]
  },
  {
   "cell_type": "code",
   "execution_count": 9,
   "metadata": {},
   "outputs": [
    {
     "data": {
      "text/plain": [
       "'Scenes intercut between the protagonist facing awkward situations (dates, locker rooms) and him alone in a room, looking into a mirror with a mix of confusion and sadness.'"
      ]
     },
     "execution_count": 9,
     "metadata": {},
     "output_type": "execute_result"
    }
   ],
   "source": [
    "best_idea = scenario_writer.choose_best_idea(ideas)\n",
    "best_idea"
   ]
  },
  {
   "cell_type": "code",
   "execution_count": 10,
   "metadata": {},
   "outputs": [
    {
     "data": {
      "text/plain": [
       "'**30-Second Video Clip Concept for \"Space in Between\" by Jan Blomquist**\\n\\n**Scene 1: [0:00-0:05]**\\n- Close-up of a dimly lit room, focusing on the protagonist\\'s eyes as he looks into a mirror. A single tear rolls down his cheek, reflecting the sad mood of the song. Soft, blue lighting accentuates his isolation.\\n\\n**Scene 2: [0:06-0:10]**\\n- Flashback to a date, the protagonist and a woman sit across from each other at a cozy, candlelit table. The woman\\'s eyes drop to his lap with a smirk, then back to his face, her demeanor changing to one of disinterest. The protagonist\\'s smile fades, realizing the encounter is not what he hoped for.\\n\\n**Scene 3: [0:11-0:15]**\\n- Cut to a locker room scene where the protagonist is awkwardly trying to change into his clothes while others around him sneak glances and whisper, highlighting the whispers and jokes mentioned in the lyrics. The lighting here is harsh and fluorescent, contrasting with the softer light of the previous intimate setting.\\n\\n**Scene 4: [0:16-0:20]**\\n- Return to the present, the protagonist sits on the edge of his bed in the dim room, head in hands, showcasing his heavy heart and the loneliness described in the chorus. The scene is intimate, with a tight focus on his expressions of despair.\\n\\n**Scene 5: [0:21-0:25]**\\n- A brief, dream-like sequence where the protagonist is walking through a crowd that parts for him, not out of respect, but due to the crude curiosity about his physique. Their faces are blurred, emphasizing his feeling of being unseen for who he truly is.\\n\\n**Scene 6: [0:26-0:30]**\\n- End on a hopeful note: the protagonist stands up from the bed, walks to the window, and looks up at the stars. The camera pans up to the night sky, symbolizing his dreams and desires for love and acceptance beyond physical attributes. The mood shifts slightly towards hope, aligning with the outro of the song.\\n\\nThroughout the video, the techno beat of \"Space in Between\" pulsates softly in the background, its synthetic textures and melancholy melody intertwining with the visuals to deepen the sense of emotional turmoil and longing for genuine connection.'"
      ]
     },
     "execution_count": 10,
     "metadata": {},
     "output_type": "execute_result"
    }
   ],
   "source": [
    "concept = scenario_writer.concept_development()\n",
    "concept"
   ]
  },
  {
   "cell_type": "code",
   "execution_count": 11,
   "metadata": {},
   "outputs": [
    {
     "data": {
      "text/plain": [
       "'**Video Clip Scenario for \"Space in Between\" by Jan Blomquist**\\n\\n**[0:00-0:01]**\\n- The video opens with a tight shot of the protagonist\\'s face, reflecting a mix of confusion and sadness in the dim light, enhancing the song\\'s melancholic mood.\\n\\n**[0:02-0:03]**\\n- The scene quickly transitions to a flashback of an awkward date. The protagonist and a woman are at a dimly lit, intimate restaurant. She looks down with a smirk, then back up with disinterest.\\n\\n**[0:04-0:05]**\\n- Cut back to the protagonist in front of the mirror, a single tear escapes as he reflects on the encounter, the room’s soft, blue lighting emphasizes his isolation.\\n\\n**[0:06-0:07]**\\n- The scene shifts to the locker room, where the protagonist is trying to change. The atmosphere is tense, filled with whispers and sneering glances from others.\\n\\n**[0:08-0:09]**\\n- A quick transition back to the room, the protagonist now sits on the floor, his back against the bed, looking lost and alone.\\n\\n**[0:10-0:11]**\\n- A dream sequence begins, with the protagonist walking through a crowded space. The crowd parts, not out of respect, but due to curiosity and whispers about his physique.\\n\\n**[0:12-0:13]**\\n- Cut to a close-up of the protagonist’s eyes, showcasing a deep longing for acceptance and understanding beyond his physical attributes.\\n\\n**[0:14-0:15]**\\n- Transition back to the previous date scene, focusing on the protagonist\\'s face as realization dawns on him that he\\'s not seen for who he is.\\n\\n**[0:16-0:17]**\\n- Back in the locker room, the protagonist quickly grabs his clothes and exits, trying to escape the laughter and mocking whispers.\\n\\n**[0:18-0:19]**\\n- The protagonist stands in front of the mirror again, staring at his reflection with a complex mix of resignation and defiance.\\n\\n**[0:20-0:21]**\\n- A brief glimpse of the protagonist in a different setting, perhaps at work or in public, where his discomfort and self-consciousness are palpable even in mundane activities.\\n\\n**[0:22-0:23]**\\n- Return to the dream sequence, but this time, the protagonist pauses, looking around at the blurred faces with a hint of determination.\\n\\n**[0:24-0:25]**\\n- Back to the present, the protagonist sits on the edge of his bed, his head in his hands, the weight of his loneliness and longing heavy in the air.\\n\\n**[0:26-0:27]**\\n- The protagonist gets up from the bed, walks towards the window, and looks out. The shift in perspective suggests a turning point or realization.\\n\\n**[0:28-0:29]**\\n- Cut to a shot of the night sky, stars twinkling brightly. The camera pans up, symbolizing hope and the protagonist’s dreams of acceptance and love.\\n\\n**[0:30]**\\n- The video ends on the image of the stars, leaving a message of hope and the possibility of finding love and acceptance beyond the physical.\\n\\nThroughout the video, the pulsating techno beat and melancholic melody of \"Space in Between\" by Jan Blomquist subtly underscore the protagonist\\'s emotional journey and longing for genuine connection.'"
      ]
     },
     "execution_count": 11,
     "metadata": {},
     "output_type": "execute_result"
    }
   ],
   "source": [
    "scenario = scenario_writer.write_scenario()\n",
    "scenario"
   ]
  },
  {
   "cell_type": "code",
   "execution_count": 14,
   "metadata": {},
   "outputs": [
    {
     "data": {
      "text/plain": [
       "{'0': \"Close-up of the protagonist's eyes in a dimly lit room, a tear rolling down his cheek.\",\n",
       " '1': \"The camera zooms out slightly, revealing the protagonist's reflection in the mirror.\",\n",
       " '2': \"Soft, blue lighting fills the room, highlighting the protagonist's isolation.\",\n",
       " '3': 'Cut to a flashback of a candlelit table on a date.',\n",
       " '4': \"The woman smirks, then shows disinterest, protagonist's smile fades.\",\n",
       " '5': \"Flashback ends, a quick transition back to the protagonist's eye in the mirror.\",\n",
       " '6': 'Scene changes to a locker room, protagonist awkwardly changing.',\n",
       " '7': 'Others around him sneak glances and whisper.',\n",
       " '8': 'The fluorescent lighting contrasts with the previous intimate setting.',\n",
       " '9': \"Cut back to the protagonist alone, the room's lighting dims further.\",\n",
       " '10': 'The protagonist sits on the edge of his bed, head in hands.',\n",
       " '11': 'Close-up on his face, showing expressions of despair.',\n",
       " '12': 'The camera slowly zooms out, showing him alone in the room.',\n",
       " '13': 'Transition to a dream-like sequence, protagonist walking through a crowd.',\n",
       " '14': 'The crowd parts for him, faces blurred, emphasizing isolation.',\n",
       " '15': \"Protagonist's face shows a mix of confusion and sadness.\",\n",
       " '16': 'Cut back to the protagonist in his room, looking into the mirror.',\n",
       " '17': 'He stands up, a slight shift in his demeanor.',\n",
       " '18': 'Walks towards a window in the room, the lighting shifts warmer.',\n",
       " '19': 'Looks out of the window, his reflection visible on the glass.',\n",
       " '20': 'The camera focuses on his eyes, reflecting a glimmer of hope.',\n",
       " '21': 'Cut to his feet walking away from the mirror, towards the door.',\n",
       " '22': 'Hand reaches for the doorknob, hesitates.',\n",
       " '23': 'A brief flashback of the awkward moments flashes before his eyes.',\n",
       " '24': 'He pulls back, not ready to face the world outside yet.',\n",
       " '25': 'Turns back towards the window, the night sky visible outside.',\n",
       " '26': 'The camera pans up to the stars, symbolizing dreams and desires.',\n",
       " '27': \"Cut back to the protagonist's face, a determined look forms.\",\n",
       " '28': 'He takes a deep breath, ready to face his challenges.',\n",
       " '29': 'The room lightens slightly, indicating a shift towards hope.',\n",
       " '30': 'The protagonist smiles faintly, the camera fades to black.'}"
      ]
     },
     "execution_count": 14,
     "metadata": {},
     "output_type": "execute_result"
    }
   ],
   "source": [
    "story_board = scenario_writer.create_story_board(0,31)\n",
    "story_board"
   ]
  },
  {
   "cell_type": "code",
   "execution_count": 18,
   "metadata": {},
   "outputs": [],
   "source": [
    "res = {str(int(k)*16):v for k,v in story_board.items()}\n",
    "with open('res.json', 'w') as file:\n",
    "    json.dump(res, file, indent=4)"
   ]
  }
 ],
 "metadata": {
  "kernelspec": {
   "display_name": "katalin_ai_models",
   "language": "python",
   "name": "katalin_ai_models"
  },
  "language_info": {
   "codemirror_mode": {
    "name": "ipython",
    "version": 3
   },
   "file_extension": ".py",
   "mimetype": "text/x-python",
   "name": "python",
   "nbconvert_exporter": "python",
   "pygments_lexer": "ipython3",
   "version": "3.10.12"
  }
 },
 "nbformat": 4,
 "nbformat_minor": 2
}
