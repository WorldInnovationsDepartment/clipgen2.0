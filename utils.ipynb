{
 "cells": [
  {
   "cell_type": "markdown",
   "metadata": {},
   "source": [
    "## Music analyzer (tonality + tempo)"
   ]
  },
  {
   "cell_type": "code",
   "execution_count": null,
   "metadata": {
    "vscode": {
     "languageId": "shellscript"
    }
   },
   "outputs": [],
   "source": [
    "!pip install music_mood_analysis"
   ]
  },
  {
   "cell_type": "code",
   "execution_count": 8,
   "metadata": {},
   "outputs": [
    {
     "name": "stdout",
     "output_type": "stream",
     "text": [
      "Tonality : E major\n",
      "Tempo : 161\n"
     ]
    },
    {
     "data": {
      "text/plain": [
       "('E major', '161')"
      ]
     },
     "execution_count": 8,
     "metadata": {},
     "output_type": "execute_result"
    }
   ],
   "source": [
    "import subprocess\n",
    "\n",
    "\n",
    "def get_tonality_n_tempo(path_to_wav: str) -> tuple:\n",
    "    completed_proc = subprocess.run(f'python -m music_mood_analysis \"{path_to_wav}\"', shell=True, stdout=subprocess.PIPE, stderr=subprocess.PIPE, text=True)\n",
    "    \n",
    "    tonality = ''\n",
    "    tempo = 0\n",
    "\n",
    "    results = completed_proc.stderr.split('\\n')\n",
    "\n",
    "    for line in results:\n",
    "        if 'Tonality: ' in line:\n",
    "            tonality = line.split('Tonality: ')[1]\n",
    "            print(f'Tonality : {tonality}')\n",
    "            \n",
    "        if 'Tempo: ' in line:\n",
    "            tempo = line.split(\"Tempo: \")[1]\n",
    "            print(f'Tempo : {tempo}')\n",
    "\n",
    "    return tonality, tempo\n",
    "\n",
    "\n",
    "get_tonality_n_tempo(path_to_wav='/Users/zelinskyibohdan/Downloads/the-rolling-stones-paint-it-black-mp3.wav')"
   ]
  },
  {
   "cell_type": "markdown",
   "metadata": {},
   "source": [
    "## Music Cropper"
   ]
  },
  {
   "cell_type": "code",
   "execution_count": null,
   "metadata": {
    "vscode": {
     "languageId": "shellscript"
    }
   },
   "outputs": [],
   "source": [
    "!pip install librosa soundfile"
   ]
  },
  {
   "cell_type": "code",
   "execution_count": 6,
   "metadata": {},
   "outputs": [],
   "source": [
    "import librosa\n",
    "import numpy as np\n",
    "import soundfile as sf\n",
    "\n",
    "def crop_song(audio_path, output_path, from_second, to_second):\n",
    "    y, sr = librosa.load(audio_path)\n",
    "\n",
    "    start_index = int(from_second * sr)\n",
    "    end_index = int(to_second * sr)\n",
    "\n",
    "    cropped_audio = y[start_index:end_index]\n",
    "    sf.write(output_path, cropped_audio, sr)\n",
    "\n",
    "\n",
    "audio_path = \"/Users/zelinskyibohdan/Downloads/jan_blomqvist_-_the_space_in_between.mp3\"\n",
    "output_path = \"/Users/zelinskyibohdan/Downloads/jan_blomqvist_-_the_space_in_between_energy.mp3\"\n",
    "\n",
    "crop_song(audio_path, output_path, from_second=88, to_second=88+31.25)"
   ]
  },
  {
   "cell_type": "markdown",
   "metadata": {},
   "source": [
    "## Video + Music Concatenator"
   ]
  },
  {
   "cell_type": "code",
   "execution_count": null,
   "metadata": {
    "vscode": {
     "languageId": "shellscript"
    }
   },
   "outputs": [],
   "source": [
    "!pip install --upgrade moviepy==1.0.3"
   ]
  },
  {
   "cell_type": "code",
   "execution_count": 7,
   "metadata": {},
   "outputs": [
    {
     "name": "stdout",
     "output_type": "stream",
     "text": [
      "Moviepy - Building video /Users/zelinskyibohdan/Desktop/the_space_in_between.mp4.\n",
      "MoviePy - Writing audio in temp-audio.m4a\n"
     ]
    },
    {
     "name": "stderr",
     "output_type": "stream",
     "text": [
      "                                                                    \r"
     ]
    },
    {
     "name": "stdout",
     "output_type": "stream",
     "text": [
      "MoviePy - Done.\n",
      "Moviepy - Writing video /Users/zelinskyibohdan/Desktop/the_space_in_between.mp4\n",
      "\n"
     ]
    },
    {
     "name": "stderr",
     "output_type": "stream",
     "text": [
      "                                                               \r"
     ]
    },
    {
     "name": "stdout",
     "output_type": "stream",
     "text": [
      "Moviepy - Done !\n",
      "Moviepy - video ready /Users/zelinskyibohdan/Desktop/the_space_in_between.mp4\n"
     ]
    }
   ],
   "source": [
    "from moviepy.editor import VideoFileClip, AudioFileClip\n",
    "\n",
    "def concatenate_audio_video(video_path, audio_path, output_path):\n",
    "    video_clip = VideoFileClip(video_path)\n",
    "    audio_clip = AudioFileClip(audio_path)\n",
    "    \n",
    "    video_clip = video_clip.set_audio(audio_clip)\n",
    "    \n",
    "    video_clip.write_videofile(output_path, codec='libx264', audio_codec='aac', temp_audiofile='temp-audio.m4a', remove_temp=True)\n",
    "\n",
    "\n",
    "audio_file_path = \"/Users/zelinskyibohdan/Downloads/jan_blomqvist_-_the_space_in_between_energy.mp3\"\n",
    "video_file_path = \"/Users/zelinskyibohdan/Downloads/AnimateDiff_00015.mp4\"\n",
    "output_file_path = \"/Users/zelinskyibohdan/Desktop/the_space_in_between.mp4\"\n",
    "\n",
    "concatenate_audio_video(video_file_path, audio_file_path, output_file_path)"
   ]
  },
  {
   "cell_type": "code",
   "execution_count": null,
   "metadata": {},
   "outputs": [],
   "source": []
  }
 ],
 "metadata": {
  "kernelspec": {
   "display_name": "base",
   "language": "python",
   "name": "python3"
  },
  "language_info": {
   "codemirror_mode": {
    "name": "ipython",
    "version": 3
   },
   "file_extension": ".py",
   "mimetype": "text/x-python",
   "name": "python",
   "nbconvert_exporter": "python",
   "pygments_lexer": "ipython3",
   "version": "3.8.8"
  }
 },
 "nbformat": 4,
 "nbformat_minor": 2
}
