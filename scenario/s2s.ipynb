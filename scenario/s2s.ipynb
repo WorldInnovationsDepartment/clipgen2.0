{
 "cells": [
  {
   "cell_type": "code",
   "execution_count": 1,
   "metadata": {},
   "outputs": [],
   "source": [
    "from langchain_core.messages import HumanMessage, SystemMessage\n",
    "from langchain_core.prompts.chat import (\n",
    "    ChatPromptTemplate,\n",
    "    HumanMessagePromptTemplate,\n",
    "    SystemMessagePromptTemplate,\n",
    ")\n",
    "from langchain_community.chat_models import ChatOpenAI\n",
    "import os\n",
    "from langchain.memory import ConversationBufferMemory\n",
    "from langchain_core.messages import (\n",
    "    AIMessage,\n",
    "    BaseMessage,\n",
    "    HumanMessage,\n",
    "    SystemMessage\n",
    ")\n",
    "from langchain.chains import LLMChain\n",
    "import prompts"
   ]
  },
  {
   "cell_type": "code",
   "execution_count": 2,
   "metadata": {},
   "outputs": [],
   "source": [
    "# Generate theme \n",
    "from dataclasses import dataclass\n",
    "\n",
    "@dataclass\n",
    "class Song:    \n",
    "    name:str\n",
    "    moode:str \n",
    "    artist:str\n",
    "    genre:str\n",
    "    lyricks:str\n",
    "    summary:str=None\n",
    "\n",
    "    def info_for_summarization(self):\n",
    "        return {\n",
    "            \"name\":self.name,\n",
    "            \"moode\":self.moode,\n",
    "            \"artist\":self.artist,\n",
    "            \"genre\":self.genre,\n",
    "            \"lyricks\":self.lyricks\n",
    "        }\n",
    "    \n",
    "    def to_dict(self):\n",
    "        return {\n",
    "            \"summary\":self.summary,\n",
    "            **self.info_for_summarization()\n",
    "        }\n",
    "\n",
    "\n",
    "@dataclass\n",
    "class VideoClip:\n",
    "    idea:str=None\n",
    "    visual_aesthetic:str=None\n",
    "    concept:str=None\n",
    "    scenario:str=None\n",
    "    story_board:str=None    \n",
    "\n",
    "\n",
    "@dataclass \n",
    "class ScenarioWriter:\n",
    "    name: str\n",
    "    memory: ConversationBufferMemory\n",
    "    chat: ChatOpenAI\n",
    "    video_clip:VideoClip\n",
    "    ideas:list=None\n",
    "\n",
    "    def summarize_song(self, song:Song):\n",
    "        self.song=song\n",
    "        res = self.chat.invoke([\n",
    "            SystemMessage(\n",
    "                content=prompts.SUMMARY_TEMPLATE\n",
    "            ),\n",
    "            HumanMessage(\n",
    "                content=prompts.SONG_DATA_TEMPLATE.format(**song.info_for_summarization())\n",
    "            ),\n",
    "        ])\n",
    "        song.summary = res.content\n",
    "        return res.content\n",
    "\n",
    "    def idea_generation(self, ideas_number:int):\n",
    "        res = self.chat.invoke([\n",
    "            SystemMessage(\n",
    "                content=prompts.IDEAS_GENERATE_TEMPLATE\n",
    "            ),\n",
    "            HumanMessage(\n",
    "                content=prompts.FULL_SONG_DATA_TEMPLATE.format(**self.song.to_dict())\n",
    "            ),\n",
    "        ])\n",
    "        # print(res.content)\n",
    "        self.ideas=res.content\n",
    "        return res.content\n",
    "\n",
    "    \n",
    "    def choose_best_idea(self, ideas):\n",
    "        res = self.chat.invoke([\n",
    "            SystemMessage(\n",
    "                content=prompts.CHOOSE_IDEA_TEMPLATE\n",
    "            ),\n",
    "            HumanMessage(\n",
    "                content=prompts.IDEAS_TEMPLATE.format(**{\"ideas\":ideas})\n",
    "            ),\n",
    "            HumanMessage(\n",
    "                content=prompts.SONG_DATA_TEMPLATE.format(**self.song.to_dict())\n",
    "            ),\n",
    "        ])\n",
    "        self.video_clip.idea = res.content\n",
    "        return res.content\n",
    "    \n",
    "    def concept_development(self):\n",
    "        res = self.chat.invoke([\n",
    "            SystemMessage(\n",
    "                content=prompts.CONCEPT_GENERATE_TEMPLATE\n",
    "            ),\n",
    "            HumanMessage(\n",
    "                content=prompts.SONG_DATA_TEMPLATE.format(**self.song.to_dict())\n",
    "            ),\n",
    "            HumanMessage(\n",
    "                content=prompts.IDEA_TEMPLATE.format(**{\"idea\":self.video_clip.idea})\n",
    "            ),\n",
    "            HumanMessage(\n",
    "                content=prompts.CONCEPT_TEMPLATE.format(**{\"concept\":self.video_clip.concept})\n",
    "            ),\n",
    "        ])\n",
    "        self.video_clip.concept = res.content\n",
    "        return res.content\n",
    "\n",
    "    # def visual_aesthetic():\n",
    "    #     pass\n",
    "\n",
    "    def write_scenario(self):\n",
    "        res = self.chat.invoke([\n",
    "            SystemMessage(\n",
    "                content=prompts.SCENARIO_GENERATE_TEMPLATE\n",
    "            ),\n",
    "            HumanMessage(\n",
    "                content=prompts.SONG_DATA_TEMPLATE.format(**self.song.to_dict())\n",
    "            ),\n",
    "            HumanMessage(\n",
    "                content=prompts.IDEA_TEMPLATE.format(**{\"idea\":self.video_clip.idea})\n",
    "            ),\n",
    "        ])\n",
    "        self.video_clip.scenario = res.content\n",
    "        return res.content\n",
    "\n",
    "    def create_story_board():\n",
    "        pass"
   ]
  },
  {
   "cell_type": "markdown",
   "metadata": {},
   "source": [
    "### Song data"
   ]
  },
  {
   "cell_type": "code",
   "execution_count": 3,
   "metadata": {},
   "outputs": [],
   "source": [
    "name = \"Space in Between\"\n",
    "moode = \"Sad\"\n",
    "artist = \"Jan Blomquist\"\n",
    "genre = \"Techno\"\n",
    "lyricks = \"\"\"\n",
    "[' (Verse 1)\\n'\n",
    " 'He walks through the world with a heavy heart,\\n'\n",
    " \"A burden that's hidden, deep within his pants,\\n\"\n",
    " 'His soul cries out for more than just sex,\\n'\n",
    " 'But the weight of his package, never gives him a chance.\\n'\n",
    " '\\n'\n",
    " '(Chorus)\\n'\n",
    " 'Oh, the man with the big dick,\\n'\n",
    " 'Feels so small and so sad,\\n'\n",
    " \"He's just a man with a heavy heart,\\n\"\n",
    " 'And a cross that he never had.\\n'\n",
    " '\\n'\n",
    " '(Verse 2)\\n'\n",
    " \"He's tired of the stares, the whispers, the jokes,\\n\"\n",
    " 'The expectations, the pressure, the constant remarks,\\n'\n",
    " 'He wants to be loved for who he is inside,\\n'\n",
    " 'But his big dick, always steals the spotlight, leaving him in the dark.\\n'\n",
    " '\\n'\n",
    " '(Chorus)\\n'\n",
    " 'Oh, the man with the big dick,\\n'\n",
    " 'Feels so alone and misunderstood,\\n'\n",
    " \"He's just a man with a heavy heart,\\n\"\n",
    " \"Living in a world that's so crude.\\n\"\n",
    " '\\n'\n",
    " '(Bridge)\\n'\n",
    " \"He's more than just a body, more than just a tool,\\n\"\n",
    " \"He's a person with feelings, with dreams and with rules,\\n\"\n",
    " 'He wants to find love, he wants to find peace,\\n'\n",
    " 'But his big dick, only brings him release.\\n'\n",
    " '\\n'\n",
    " '(Chorus)\\n'\n",
    " 'Oh, the man with the big dick,\\n'\n",
    " 'Feels so unloved and unseen,\\n'\n",
    " \"He's just a man with a heavy heart,\\n\"\n",
    " \"Drowning in a world that's so mean.\\n\"\n",
    " '\\n'\n",
    " '(Outro)\n",
    " \"So here's to the man with the big dick,\"\n",
    " 'May he find love, may he find his way,\n",
    " 'May he be seen for who he truly is,\n",
    " 'And not just the size of his package, at the end of the day.\n",
    "\"\"\"\n",
    "openapi_api_key=os.getenv('OPENAPI_API_KEY')"
   ]
  },
  {
   "cell_type": "markdown",
   "metadata": {},
   "source": [
    "### Inits"
   ]
  },
  {
   "cell_type": "code",
   "execution_count": 4,
   "metadata": {},
   "outputs": [
    {
     "name": "stderr",
     "output_type": "stream",
     "text": [
      "/home/alphapeas/.cache/pypoetry/virtualenvs/ai-models-ApbTBOR1-py3.10/lib/python3.10/site-packages/langchain_core/_api/deprecation.py:117: LangChainDeprecationWarning: The class `langchain_community.chat_models.openai.ChatOpenAI` was deprecated in langchain-community 0.0.10 and will be removed in 0.2.0. An updated version of the class exists in the langchain-openai package and should be used instead. To use it run `pip install -U langchain-openai` and import as `from langchain_openai import ChatOpenAI`.\n",
      "  warn_deprecated(\n"
     ]
    }
   ],
   "source": [
    "song = Song(\n",
    "    name=name,\n",
    "    moode=moode,\n",
    "    artist=artist,\n",
    "    genre=genre,\n",
    "    lyricks=lyricks,\n",
    ")\n",
    "video_clip=VideoClip()\n",
    "scenario_writer = ScenarioWriter(\n",
    "    name=\"Oleg\", \n",
    "    memory = ConversationBufferMemory(), \n",
    "    chat = ChatOpenAI(\n",
    "        model_name='gpt-4-0125-preview', \n",
    "        openai_api_key=openapi_api_key, \n",
    "        temperature=0.7\n",
    "    ),\n",
    "    video_clip=video_clip,\n",
    ")"
   ]
  },
  {
   "cell_type": "code",
   "execution_count": 5,
   "metadata": {},
   "outputs": [
    {
     "data": {
      "text/plain": [
       "'\"Space in Between\" by Jan Blomquist is a melancholic track that delves into the emotional turmoil of a man burdened by societal perceptions related to his physical attributes. Set against a techno backdrop, the song explores themes of loneliness, misunderstanding, and the desire for genuine connection beyond physical appearances. Through a series of verses, choruses, and a bridge, the lyrics depict the protagonist\\'s struggle with feeling unseen and unloved because of the focus on his physicality, highlighting his yearning to be appreciated for his inner self. The song aims to evoke empathy and understanding for individuals who are judged based on superficial qualities, urging a deeper recognition of their humanity.'"
      ]
     },
     "execution_count": 5,
     "metadata": {},
     "output_type": "execute_result"
    }
   ],
   "source": [
    "summary = scenario_writer.summarize_song(song)\n",
    "\n",
    "summary"
   ]
  },
  {
   "cell_type": "code",
   "execution_count": 6,
   "metadata": {},
   "outputs": [
    {
     "data": {
      "text/plain": [
       "'[\"A grayscale world where everyone has visible, exaggerated physical traits symbolizing their personal burdens. The protagonist, marked by a glowing aura around his lower body, navigates this world, trying to connect beyond the superficial.\",\\n \"A series of vignettes showing the protagonist engaging in everyday activities - shopping, walking in the park, sitting in a café - but always surrounded by a bubble that distorts and magnifies his midsection, illustrating his isolation and the barrier his physical trait creates.\",\\n \"A dance performance in an empty, dimly lit warehouse, with the protagonist and others each dancing solo, expressing their longing and frustrations. As the song progresses, they come together, their movements synchronizing, symbolizing the search for understanding and connection.\",\\n \"A narrative-driven concept following the protagonist through a day, from waking up alone in his apartment, going through his day facing whispers and stares, to finding solace in a support group where others share similar burdens, ending on a note of mutual understanding and acceptance.\",\\n \"An abstract, visually driven piece with the protagonist floating in a space-like environment, surrounded by stars and nebulae that symbolize his thoughts and feelings. His journey through space represents his internal struggle and desire for acceptance, with occasional touches of color representing moments of hope and connection.\"]'"
      ]
     },
     "execution_count": 6,
     "metadata": {},
     "output_type": "execute_result"
    }
   ],
   "source": [
    "ideas = scenario_writer.idea_generation(5)\n",
    "\n",
    "ideas"
   ]
  },
  {
   "cell_type": "code",
   "execution_count": 7,
   "metadata": {},
   "outputs": [
    {
     "data": {
      "text/plain": [
       "'Video Clip Ideas: [\"A grayscale world where everyone has visible, exaggerated physical traits symbolizing their personal burdens. The protagonist, marked by a glowing aura around his lower body, navigates this world, trying to connect beyond the superficial.\",\\n \"A series of vignettes showing the protagonist engaging in everyday activities - shopping, walking in the park, sitting in a café - but always surrounded by a bubble that distorts and magnifies his midsection, illustrating his isolation and the barrier his physical trait creates.\",\\n \"A dance performance in an empty, dimly lit warehouse, with the protagonist and others each dancing solo, expressing their longing and frustrations. As the song progresses, they come together, their movements synchronizing, symbolizing the search for understanding and connection.\",\\n \"A narrative-driven concept following the protagonist through a day, from waking up alone in his apartment, going through his day facing whispers and stares, to finding solace in a support group where others share similar burdens, ending on a note of mutual understanding and acceptance.\",\\n \"An abstract, visually driven piece with the protagonist floating in a space-like environment, surrounded by stars and nebulae that symbolize his thoughts and feelings. His journey through space represents his internal struggle and desire for acceptance, with occasional touches of color representing moments of hope and connection.\"]'"
      ]
     },
     "execution_count": 7,
     "metadata": {},
     "output_type": "execute_result"
    }
   ],
   "source": [
    "prompts.IDEAS_TEMPLATE.format(**{\"ideas\":ideas})"
   ]
  },
  {
   "cell_type": "code",
   "execution_count": 8,
   "metadata": {},
   "outputs": [
    {
     "data": {
      "text/plain": [
       "'A narrative-driven concept following the protagonist through a day, from waking up alone in his apartment, going through his day facing whispers and stares, to finding solace in a support group where others share similar burdens, ending on a note of mutual understanding and acceptance.'"
      ]
     },
     "execution_count": 8,
     "metadata": {},
     "output_type": "execute_result"
    }
   ],
   "source": [
    "best_idea = scenario_writer.choose_best_idea(ideas)\n",
    "best_idea"
   ]
  },
  {
   "cell_type": "code",
   "execution_count": 9,
   "metadata": {},
   "outputs": [
    {
     "data": {
      "text/plain": [
       "'**30-Second Video Clip Concept for \"Space in Between\" by Jan Blomquist**\\n\\n**Opening Scene (0-5 seconds):**\\nA close-up of an alarm clock ringing in a dimly lit room. The camera pans out to reveal our protagonist, a man in his late 20s, reluctantly waking up. His room is adorned with various personal items that hint at a deeper, unseen sadness.\\n\\n**Scene 2 (5-10 seconds):**\\nA montage of clips shows the protagonist going through his day. Scenes include walking down the street while people around him whisper and give him odd looks, the camera focusing on their expressions and his discomfort. It’s clear the whispers aren’t positive, and they weigh heavily on him.\\n\\n**Scene 3 (10-15 seconds):**\\nAt work, he’s the butt of a joke among colleagues; their laughter echoes as he walks away, visibly shrinking into himself. The focus is on his isolation in a crowded room.\\n\\n**Scene 4 (15-20 seconds):**\\nA turning moment: he notices a flyer for a support group titled \"Beyond Appearances\". He hesitates but then takes a photo of the flyer with his phone, a glimmer of hope in his eyes.\\n\\n**Scene 5 (20-25 seconds):**\\nThe protagonist is seen entering a room where the support group meets. The room is filled with diverse individuals, all nodding in understanding as he takes a seat among them. The atmosphere is warm and accepting, a stark contrast to the cold world outside.\\n\\n**Closing Scene (25-30 seconds):**\\nThe final shot shows the protagonist and the group members standing in a circle, hands joined. The camera zooms out slowly to show them surrounded by a glow, symbolizing warmth and acceptance. The scene fades to black with the text: \"Beyond the space in between, we find connection.\"\\n\\n**Narrative Overlay (Throughout the clip):**\\nSoft, melancholic techno music plays in the background, with subtle echoes of the song\\'s chorus, emphasizing the emotional journey from isolation to acceptance.\\n\\nThis concept aims to encapsulate the essence of the song, focusing on the theme of looking beyond physical appearances to the person within, and the universal need for acceptance and understanding.'"
      ]
     },
     "execution_count": 9,
     "metadata": {},
     "output_type": "execute_result"
    }
   ],
   "source": [
    "concept = scenario_writer.concept_development()\n",
    "concept"
   ]
  },
  {
   "cell_type": "code",
   "execution_count": 10,
   "metadata": {},
   "outputs": [
    {
     "data": {
      "text/plain": [
       "'**Space in Between - 30 Second Video Clip Scenario**\\n\\n**0-3 seconds:** A close-up of an alarm clock in a dimly lit room, the time switching to 7:00 AM, followed by a hand reaching out to turn it off. The camera pans to show the protagonist lying in bed, staring at the ceiling with a sense of dread.\\n\\n**4-6 seconds:** Cut to the protagonist standing in front of a mirror, getting dressed. The camera focuses on his troubled expression, avoiding explicit visuals but implying the source of his distress.\\n\\n**7-9 seconds:** The protagonist exits his apartment, head down. People on the street glance his way, whispering and nudging each other, their expressions a mix of curiosity and mockery.\\n\\n**10-12 seconds:** A quick montage of the day\\'s encounters: a coworker making a crude joke, a stranger on the bus staring, and a disappointing date that ends awkwardly, all highlighting his isolation and discomfort.\\n\\n**13-15 seconds:** The protagonist, looking deflated, notices a flyer on a community board for a support group, \"Beyond Appearances.\" He hesitates, then takes a photo with his phone.\\n\\n**16-18 seconds:** Cut to the protagonist entering a modest meeting room where several people sit in a circle, some nodding in greeting. He takes a seat, the camera capturing the shared understanding in their eyes.\\n\\n**19-21 seconds:** The group leader, a compassionate figure, begins speaking. Although the audio is muted, the subtitles read, \"Let\\'s share our stories, our struggles, and find strength in our shared experiences.\"\\n\\n**22-24 seconds:** A series of quick shots show members speaking, with the protagonist listening intently. Their expressions range from sadness to relief as they open up.\\n\\n**25-27 seconds:** The protagonist\\'s turn. He stands, sharing his story. The group listens, offering nods of empathy and support.\\n\\n**28-30 seconds:** The video ends with the protagonist smiling genuinely for the first time, surrounded by his new friends. Fade out with the text, \"In a world that judges, understanding is our sanctuary.\"\\n\\n**Note:** This video concept seeks to address the song\\'s themes in a sensitive and respectful manner, focusing on emotional struggles and the importance of acceptance and community support.'"
      ]
     },
     "execution_count": 10,
     "metadata": {},
     "output_type": "execute_result"
    }
   ],
   "source": [
    "# scenario = scenario_writer.write_scenario()\n",
    "# scenario\n",
    "res = scenario_writer.chat.invoke([\n",
    "            SystemMessage(\n",
    "                content=prompts.SCENARIO_GENERATE_TEMPLATE\n",
    "            ),\n",
    "            HumanMessage(\n",
    "                content=prompts.SONG_DATA_TEMPLATE.format(**scenario_writer.song.to_dict())\n",
    "            ),\n",
    "            HumanMessage(\n",
    "                content=prompts.IDEA_TEMPLATE.format(**{\"idea\":scenario_writer.video_clip.idea})\n",
    "            ),\n",
    "        ])"
   ]
  }
 ],
 "metadata": {
  "kernelspec": {
   "display_name": "katalin_ai_models",
   "language": "python",
   "name": "katalin_ai_models"
  },
  "language_info": {
   "codemirror_mode": {
    "name": "ipython",
    "version": 3
   },
   "file_extension": ".py",
   "mimetype": "text/x-python",
   "name": "python",
   "nbconvert_exporter": "python",
   "pygments_lexer": "ipython3",
   "version": "3.10.12"
  }
 },
 "nbformat": 4,
 "nbformat_minor": 2
}
